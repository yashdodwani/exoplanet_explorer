{
 "cells": [
  {
   "cell_type": "code",
   "id": "initial_id",
   "metadata": {
    "collapsed": true,
    "ExecuteTime": {
     "end_time": "2025-10-05T17:26:58.634495Z",
     "start_time": "2025-10-05T17:26:58.548746Z"
    }
   },
   "source": [
    "import pandas as pd\n",
    "import numpy as np\n",
    "import matplotlib.pyplot as plt\n",
    "import seaborn as sns\n",
    "from sklearn.model_selection import train_test_split\n"
   ],
   "outputs": [],
   "execution_count": 1
  },
  {
   "metadata": {
    "ExecuteTime": {
     "end_time": "2025-10-05T17:27:41.820171Z",
     "start_time": "2025-10-05T17:27:41.737431Z"
    }
   },
   "cell_type": "code",
   "source": "df = pd.read_csv('grand_dAAAAAAaataset_final_scaled.csv')",
   "id": "869f11a0a4ad2ff5",
   "outputs": [],
   "execution_count": 2
  },
  {
   "metadata": {
    "ExecuteTime": {
     "end_time": "2025-10-05T17:28:09.220508Z",
     "start_time": "2025-10-05T17:28:09.205565Z"
    }
   },
   "cell_type": "code",
   "source": " df.info()",
   "id": "182ebdd56795f99f",
   "outputs": [
    {
     "name": "stdout",
     "output_type": "stream",
     "text": [
      "<class 'pandas.core.frame.DataFrame'>\n",
      "RangeIndex: 15875 entries, 0 to 15874\n",
      "Data columns (total 53 columns):\n",
      " #   Column                          Non-Null Count  Dtype  \n",
      "---  ------                          --------------  -----  \n",
      " 0   koi_disposition                 15875 non-null  object \n",
      " 1   koi_score                       15875 non-null  float64\n",
      " 2   koi_period                      15875 non-null  float64\n",
      " 3   koi_eccen                       15875 non-null  float64\n",
      " 4   koi_impact                      15875 non-null  float64\n",
      " 5   koi_duration                    15875 non-null  float64\n",
      " 6   koi_depth                       15875 non-null  float64\n",
      " 7   koi_ror                         15875 non-null  float64\n",
      " 8   koi_srho                        15875 non-null  float64\n",
      " 9   koi_incl                        15875 non-null  float64\n",
      " 10  koi_teq                         15830 non-null  float64\n",
      " 11  koi_insol                       15861 non-null  float64\n",
      " 12  koi_dor                         15875 non-null  float64\n",
      " 13  koi_model_snr                   15875 non-null  float64\n",
      " 14  koi_count                       15875 non-null  float64\n",
      " 15  koi_num_transits                15875 non-null  float64\n",
      " 16  koi_steff                       15875 non-null  float64\n",
      " 17  koi_slogg                       15875 non-null  float64\n",
      " 18  koi_smet                        15875 non-null  float64\n",
      " 19  koi_smass                       15875 non-null  float64\n",
      " 20  ra                              15875 non-null  float64\n",
      " 21  dec                             15875 non-null  float64\n",
      " 22  koi_kepmag                      15875 non-null  float64\n",
      " 23  koi_gmag                        15875 non-null  float64\n",
      " 24  koi_rmag                        15875 non-null  float64\n",
      " 25  koi_imag                        15875 non-null  float64\n",
      " 26  koi_zmag                        15875 non-null  float64\n",
      " 27  koi_jmag                        15875 non-null  float64\n",
      " 28  koi_hmag                        15875 non-null  float64\n",
      " 29  koi_kmag                        15875 non-null  float64\n",
      " 30  loc_rowid                       15875 non-null  float64\n",
      " 31  st_pmra                         15875 non-null  float64\n",
      " 32  st_pmdec                        15875 non-null  float64\n",
      " 33  pl_tranmid                      15875 non-null  float64\n",
      " 34  koi_prad                        15875 non-null  float64\n",
      " 35  koi_tmag                        15875 non-null  float64\n",
      " 36  st_dist                         15875 non-null  float64\n",
      " 37  koi_srad                        15875 non-null  float64\n",
      " 38  Relative_Error_PLANET_ORBPER    15875 non-null  float64\n",
      " 39  Relative_Error_PLANET_RADE      15875 non-null  float64\n",
      " 40  Relative_Error_PLANET_TRANDEP   15875 non-null  float64\n",
      " 41  Relative_Error_PLANET_TRANDURH  15875 non-null  float64\n",
      " 42  Relative_Error_PLANET_TRANMID   15875 non-null  float64\n",
      " 43  Relative_Error_STAR_DIST        15875 non-null  float64\n",
      " 44  Relative_Error_STAR_LOGG        15875 non-null  float64\n",
      " 45  Relative_Error_STAR_PMDEC       15875 non-null  float64\n",
      " 46  Relative_Error_STAR_PMRA        15875 non-null  float64\n",
      " 47  Relative_Error_STAR_RAD         15875 non-null  float64\n",
      " 48  Relative_Error_STAR_TEFF        15875 non-null  float64\n",
      " 49  Relative_Error_STAR_TMAG        15875 non-null  float64\n",
      " 50  koi_fittype_LS+MCMC             15875 non-null  float64\n",
      " 51  koi_fittype_MCMC                15875 non-null  float64\n",
      " 52  koi_fittype_none                15875 non-null  float64\n",
      "dtypes: float64(52), object(1)\n",
      "memory usage: 6.4+ MB\n"
     ]
    }
   ],
   "execution_count": 3
  },
  {
   "metadata": {
    "ExecuteTime": {
     "end_time": "2025-10-05T17:28:40.275518Z",
     "start_time": "2025-10-05T17:28:40.272693Z"
    }
   },
   "cell_type": "code",
   "source": [
    "from sklearn.preprocessing import LabelEncoder\n",
    "le = LabelEncoder()"
   ],
   "id": "d641da707b2d6238",
   "outputs": [],
   "execution_count": 4
  },
  {
   "metadata": {},
   "cell_type": "code",
   "outputs": [],
   "execution_count": null,
   "source": "",
   "id": "d363e40c64dad2fb"
  }
 ],
 "metadata": {
  "kernelspec": {
   "display_name": "Python 3",
   "language": "python",
   "name": "python3"
  },
  "language_info": {
   "codemirror_mode": {
    "name": "ipython",
    "version": 2
   },
   "file_extension": ".py",
   "mimetype": "text/x-python",
   "name": "python",
   "nbconvert_exporter": "python",
   "pygments_lexer": "ipython2",
   "version": "2.7.6"
  }
 },
 "nbformat": 4,
 "nbformat_minor": 5
}
